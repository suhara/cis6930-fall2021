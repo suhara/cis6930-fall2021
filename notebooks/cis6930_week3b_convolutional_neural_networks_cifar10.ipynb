{
  "nbformat": 4,
  "nbformat_minor": 0,
  "metadata": {
    "colab": {
      "name": "cis6930-week3b-convolutional-neural-networks-cifar10.ipynb",
      "provenance": [],
      "collapsed_sections": [],
      "toc_visible": true,
      "machine_shape": "hm"
    },
    "kernelspec": {
      "name": "python3",
      "display_name": "Python 3"
    },
    "language_info": {
      "name": "python"
    },
    "accelerator": "GPU"
  },
  "cells": [
    {
      "cell_type": "markdown",
      "metadata": {
        "id": "oRgpqL0KVO43"
      },
      "source": [
        "# CIS6930 Week 3b: Convolutional Neural Networks (Student version & Assignment)\n",
        "\n",
        "---\n",
        "\n",
        "Preparation: Go to `Runtime > Change runtime type` and choose `GPU` for the hardware accelerator.\n",
        "\n"
      ]
    },
    {
      "cell_type": "code",
      "metadata": {
        "colab": {
          "base_uri": "https://localhost:8080/"
        },
        "id": "uayE3ioc3k_h",
        "outputId": "83b59038-a46e-4743-b62e-642e0e560842"
      },
      "source": [
        "gpu_info = !nvidia-smi -L\n",
        "gpu_info = \"\\n\".join(gpu_info)\n",
        "if gpu_info.find(\"failed\") >= 0:\n",
        "  print(\"Not connected to a GPU\")\n",
        "else:\n",
        "  print(gpu_info)"
      ],
      "execution_count": null,
      "outputs": [
        {
          "output_type": "stream",
          "name": "stdout",
          "text": [
            "GPU 0: Tesla V100-SXM2-16GB (UUID: GPU-1ed8c666-34c8-7707-18f0-d13cac717d1f)\n"
          ]
        }
      ]
    },
    {
      "cell_type": "markdown",
      "metadata": {
        "id": "lTahfFKhDOjM"
      },
      "source": [
        "## Preparation"
      ]
    },
    {
      "cell_type": "code",
      "metadata": {
        "id": "a7h-6LpjVDHW"
      },
      "source": [
        "import copy\n",
        "import random\n",
        "from time import time\n",
        "from typing import Any, Dict\n",
        "\n",
        "import numpy as np\n",
        "import torch\n",
        "import torch.nn as nn\n",
        "import torch.nn.functional as F\n",
        "from torch import optim\n",
        "from torch.utils.data import Dataset, TensorDataset, DataLoader"
      ],
      "execution_count": null,
      "outputs": []
    },
    {
      "cell_type": "markdown",
      "metadata": {
        "id": "5HpT2i9jDSRu"
      },
      "source": [
        "### Loading the CIFAR-10 dataset"
      ]
    },
    {
      "cell_type": "code",
      "metadata": {
        "id": "T9sBXgBsV6dI",
        "colab": {
          "base_uri": "https://localhost:8080/"
        },
        "outputId": "5fb8dc0d-f773-4111-9f13-f06339f1d3ea"
      },
      "source": [
        "import torchvision\n",
        "from  torchvision import transforms\n",
        "\n",
        "transform = transforms.Compose(\n",
        "    [transforms.ToTensor(),\n",
        "     transforms.Normalize((0.5, 0.5, 0.5), (0.5, 0.5, 0.5))])\n",
        "\n",
        "train_dataset = torchvision.datasets.CIFAR10(root=\"./data\", train=True,\n",
        "                                        download=True, transform=transform)\n",
        "train_dataset, valid_dataset = torch.utils.data.random_split(train_dataset, [40000, 10000],\n",
        "                                                             generator=torch.Generator().manual_seed(5))\n",
        "test_dataset = torchvision.datasets.CIFAR10(root=\"./data\", train=False,\n",
        "                                       download=True, transform=transform)\n",
        "classes = train_dataset.dataset.classes\n",
        "print(classes)"
      ],
      "execution_count": null,
      "outputs": [
        {
          "output_type": "stream",
          "name": "stdout",
          "text": [
            "Files already downloaded and verified\n",
            "Files already downloaded and verified\n",
            "['airplane', 'automobile', 'bird', 'cat', 'deer', 'dog', 'frog', 'horse', 'ship', 'truck']\n"
          ]
        }
      ]
    },
    {
      "cell_type": "code",
      "metadata": {
        "colab": {
          "base_uri": "https://localhost:8080/"
        },
        "id": "Bd1sQ4WE3xRb",
        "outputId": "0f615711-3e98-4c7c-af8c-8be1836bd1a0"
      },
      "source": [
        "(len(train_dataset), len(valid_dataset), len(test_dataset))"
      ],
      "execution_count": null,
      "outputs": [
        {
          "output_type": "execute_result",
          "data": {
            "text/plain": [
              "(40000, 10000, 10000)"
            ]
          },
          "metadata": {},
          "execution_count": 4
        }
      ]
    },
    {
      "cell_type": "code",
      "metadata": {
        "colab": {
          "base_uri": "https://localhost:8080/",
          "height": 1000
        },
        "id": "mcnUXJ-uWC5f",
        "outputId": "a067ab55-c64b-4438-f6b7-fd60ab68430c"
      },
      "source": [
        "from torchvision.utils import make_grid\n",
        "from matplotlib import pyplot as plt\n",
        "\n",
        "#plt.imshow(make_grid(train_dataset[0][0]))\n",
        "for i in range(5):\n",
        "    print(classes[train_dataset.dataset.targets[i]])\n",
        "\n",
        "    # Note: The images after normalization are not very visible to human!!\n",
        "    \"\"\"\n",
        "    plt.imshow(transforms.ToPILImage()(train_dataset[i][0]),\n",
        "               interpolation=\"nearest\")\n",
        "    \"\"\"\n",
        "    plt.imshow(transforms.ToPILImage()(train_dataset.dataset.data[i]),\n",
        "               interpolation=\"none\")\n",
        "    plt.show()\n"
      ],
      "execution_count": null,
      "outputs": [
        {
          "output_type": "stream",
          "name": "stdout",
          "text": [
            "frog\n"
          ]
        },
        {
          "output_type": "display_data",
          "data": {
            "image/png": "[encoded data removed]",
            "text/plain": [
              "<Figure size 432x288 with 1 Axes>"
            ]
          },
          "metadata": {
            "needs_background": "light"
          }
        },
        {
          "output_type": "stream",
          "name": "stdout",
          "text": [
            "truck\n"
          ]
        },
        {
          "output_type": "display_data",
          "data": {
            "image/png": "[encoded data removed]",
            "text/plain": [
              "<Figure size 432x288 with 1 Axes>"
            ]
          },
          "metadata": {
            "needs_background": "light"
          }
        },
        {
          "output_type": "stream",
          "name": "stdout",
          "text": [
            "truck\n"
          ]
        },
        {
          "output_type": "display_data",
          "data": {
            "image/png": "[encoded data removed]",
            "text/plain": [
              "<Figure size 432x288 with 1 Axes>"
            ]
          },
          "metadata": {
            "needs_background": "light"
          }
        },
        {
          "output_type": "stream",
          "name": "stdout",
          "text": [
            "deer\n"
          ]
        },
        {
          "output_type": "display_data",
          "data": {
            "image/png": "[encoded data removed]",
            "text/plain": [
              "<Figure size 432x288 with 1 Axes>"
            ]
          },
          "metadata": {
            "needs_background": "light"
          }
        },
        {
          "output_type": "stream",
          "name": "stdout",
          "text": [
            "automobile\n"
          ]
        },
        {
          "output_type": "display_data",
          "data": {
            "image/png": "[encoded data removed]",
            "text/plain": [
              "<Figure size 432x288 with 1 Axes>"
            ]
          },
          "metadata": {
            "needs_background": "light"
          }
        }
      ]
    },
    {
      "cell_type": "markdown",
      "metadata": {
        "id": "oCSAf4Lr_A7t"
      },
      "source": [
        "## Getting Familiar with 4d Tensor (In-class exercise)\n",
        "\n",
        "Let's sample a batch from the CIFAR-10 dataset and apply a convolutional filter. "
      ]
    },
    {
      "cell_type": "code",
      "metadata": {
        "colab": {
          "base_uri": "https://localhost:8080/"
        },
        "id": "95Hi2qremyba",
        "outputId": "49454552-3b91-4762-c659-492f033391f8"
      },
      "source": [
        "# Sample a batch\n",
        "batch_size = 8\n",
        "dl_train = DataLoader(train_dataset, batch_size=batch_size)\n",
        "batch = next(iter(dl_train))\n",
        "X, y = batch\n",
        "\n",
        "print(X.shape)"
      ],
      "execution_count": null,
      "outputs": [
        {
          "output_type": "stream",
          "name": "stdout",
          "text": [
            "torch.Size([8, 3, 32, 32])\n"
          ]
        }
      ]
    },
    {
      "cell_type": "markdown",
      "metadata": {
        "id": "pbhsn8ELBx_m"
      },
      "source": [
        "Remember each dimension of 4d tensor denotes (batch size, # of channels, height, and width) respectively. Get familiar with the notation `(B, C, H, W)` or `(N, C, H, W)`."
      ]
    },
    {
      "cell_type": "code",
      "metadata": {
        "id": "6M8Z5fps7yh0",
        "colab": {
          "base_uri": "https://localhost:8080/"
        },
        "outputId": "276f4ca4-41e7-4472-a8f6-1af8cd49d5ff"
      },
      "source": [
        "filter1 = nn.Conv2d(in_channels=3,  # ADD NUMBER\n",
        "                    out_channels=5, # ADD NUMBER\n",
        "                    kernel_size=3,  # ADD NUMBER\n",
        "                    stride=1,       # ADD NUMBER\n",
        "                    padding=1)      # ADD NUMBER\n",
        "print(filter1.weight.shape)\n",
        "out1 = filter1(X)\n",
        "print(out1.shape)"
      ],
      "execution_count": null,
      "outputs": [
        {
          "output_type": "stream",
          "name": "stdout",
          "text": [
            "torch.Size([5, 3, 3, 3])\n",
            "torch.Size([8, 5, 32, 32])\n"
          ]
        }
      ]
    },
    {
      "cell_type": "markdown",
      "metadata": {
        "id": "wBVOcYJWCj-z"
      },
      "source": [
        "# Assignment (due Fri 9/24 *)\n",
        "(* no penalty until Mon 9/27)\n",
        "\n",
        "\n",
        "- 1) Design and develop **two** CNN models using PyTorch\n",
        "    - **Baseline model**\n",
        "        - LeNet-5 might be a good starting point (which does not have to be an existing model)\n",
        "    - **Proposed model**\n",
        "        - Try to use and combine techniques that you learned from the course\n",
        "- 2) Train and evaluate **two models** on the CIFAR-10 dataset\n",
        "    - Use **the same optimization configuration** for the two models\n",
        "    - Report **training/validation loss** and **validation/test accuracy**\n",
        "- 3) Discuss the results and summarize the findings\n",
        "    - Which model performs better?\n",
        "    - Why do you think the one is better than the other?\n"
      ]
    },
    {
      "cell_type": "markdown",
      "metadata": {
        "id": "bICRGpJ8rOk6"
      },
      "source": [
        "## 1) Design and develop two CNN models using PyTorch\n",
        "\n",
        "Add code block(s) below. Add comments to the code block(s) to highligh the difference b/w two models."
      ]
    },
    {
      "cell_type": "code",
      "metadata": {
        "id": "1O01NmD9sAR2"
      },
      "source": [
        "# Model 1"
      ],
      "execution_count": null,
      "outputs": []
    },
    {
      "cell_type": "code",
      "metadata": {
        "id": "oh2vAPD1sBep"
      },
      "source": [
        "# Model 2"
      ],
      "execution_count": null,
      "outputs": []
    },
    {
      "cell_type": "markdown",
      "metadata": {
        "id": "GEXw_w1hrUEC"
      },
      "source": [
        "## 2) Train and evaluate two models on the CIFAR-10 dataset\n",
        "\n",
        "Add code block(s) below. Add notes if necessary.\n",
        "\n",
        "You can copy and modify `train()` used in the previous session for this assignment. Here is the [Link](https://colab.research.google.com/drive/1jnXbnDycTeMcfUR2SEbIQtY-nB1zYZge?usp=sharing) to the Google Colab notebook.\n"
      ]
    },
    {
      "cell_type": "code",
      "metadata": {
        "id": "fhVdaEX4rtTS"
      },
      "source": [
        "# Code block"
      ],
      "execution_count": null,
      "outputs": []
    },
    {
      "cell_type": "code",
      "metadata": {
        "id": "TYba0eobsDbx"
      },
      "source": [
        "# Code block"
      ],
      "execution_count": null,
      "outputs": []
    },
    {
      "cell_type": "markdown",
      "metadata": {
        "id": "C9nnm7tArYVh"
      },
      "source": [
        "## 3) Discuss the results and summarize the findings\n",
        "\n",
        "(Add text here)"
      ]
    }
  ]
}