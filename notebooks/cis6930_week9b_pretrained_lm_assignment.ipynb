{
  "nbformat": 4,
  "nbformat_minor": 0,
  "metadata": {
    "accelerator": "GPU",
    "colab": {
      "name": "cis6930-week9b-pretrained-lm-assignment.ipynb",
      "provenance": [],
      "toc_visible": true
    },
    "kernelspec": {
      "display_name": "Python 3",
      "name": "python3"
    },
    "language_info": {
      "name": "python"
    }
  },
  "cells": [
    {
      "cell_type": "markdown",
      "metadata": {
        "id": "tydRDo6t2bjd"
      },
      "source": [
        "# CIS6930 Week 9 Assignment: Getting Familiar with Hugging Face's Transformers Library and Model/Dataset Hub\n",
        "\n",
        "The primary goal of this assignment is to provide an opportunity to learn about Hugging Face's Transformers library, Model Hub, and Dataset Hub. The problems should be pretty straightforward. Problem 4 should be helpful especially for those who are interestd in text data for the term project.\n",
        "\n",
        "I hope you will learn the basics of the `transformers` library and get familar with Hugging Face Hub. Enjoy! :)\n",
        "\n",
        "---\n",
        "Preparation: Go to `Runtime > Change runtime type` and choose `GPU` for the hardware accelerator."
      ]
    },
    {
      "cell_type": "code",
      "metadata": {
        "id": "5MMZ5mxJ2iUy"
      },
      "source": [
        "gpu_info = !nvidia-smi -L\n",
        "gpu_info = \"\\n\".join(gpu_info)\n",
        "if gpu_info.find(\"failed\") >= 0:\n",
        "    print(\"Not connected to a GPU\")\n",
        "else:\n",
        "    print(gpu_info)"
      ],
      "execution_count": null,
      "outputs": []
    },
    {
      "cell_type": "markdown",
      "metadata": {
        "id": "YbAny3QK2j6B"
      },
      "source": [
        "## Preparation\n",
        "\n",
        "For this notebookt, we use Hugging Face's `transformers` library."
      ]
    },
    {
      "cell_type": "code",
      "metadata": {
        "id": "1qK5hsVkyVF_"
      },
      "source": [
        "!pip install transformers"
      ],
      "execution_count": null,
      "outputs": []
    },
    {
      "cell_type": "markdown",
      "metadata": {
        "id": "IAA5kQ6479xA"
      },
      "source": [
        "## Preliminary: Quick Tour (20 min read + 10 min watch)\n",
        "\n",
        "\n",
        "- Go through [the Quick Tour](https://huggingface.co/transformers/quicktour.html#quick-tour) and watch the two videos on the page. \n",
        "- Make sure that you are now familiar with the following two patterns.\n",
        "\n",
        "\n",
        "#### A) The \"`tokenizer` + `model`\" pattern \n",
        "\n",
        "```\n",
        ">>> from transformers import AutoTokenizer, AutoModelForSequenceClassification\n",
        ">>> model_name = \"distilbert-base-uncased-finetuned-sst-2-english\"\n",
        ">>> pt_model = AutoModelForSequenceClassification.from_pretrained(model_name)\n",
        ">>> tokenizer = AutoTokenizer.from_pretrained(model_name)\n",
        "```\n",
        "\n",
        "#### B) The \"`pipeline`\" pattern\n",
        "\n",
        "```\n",
        ">>> from transformers import pipeline\n",
        ">>> classifier = pipeline('sentiment-analysis')\n",
        ">>> classifier('We are very happy to show you the 🤗 Transformers library.')\n",
        "```\n",
        "\n",
        "For `pipeline`, see also [Pipelines documentation](https://huggingface.co/transformers/main_classes/pipelines.html) for more details."
      ]
    },
    {
      "cell_type": "markdown",
      "metadata": {
        "id": "LaP6uDFNEcDX"
      },
      "source": [
        "## Problem 1: Bug hunting!\n",
        "\n",
        "The code below runs successfully but has an issue. Detect the issue. Technically, it is not a software bug as it does not raise any errors. \n",
        "\n",
        "You're allowed to **change 1 line** in the code. (Hint: Carefully look at the code line by line. You have two options. Either is fine.)\n",
        "\n",
        "\n",
        "```\n",
        "from transformers import AutoTokenizer, AutoModelForSequenceClassification\n",
        "\n",
        "model = AutoModelForSequenceClassification.from_pretrained(\"bert-base-uncased\")\n",
        "tokenizer = AutoTokenizer.from_pretrained(\"bert-base-cased\")\n",
        "\n",
        "inputs = tokenizer(\"Hello, world!\", return_tensors=\"pt\")\n",
        "model(**inputs)\n",
        "```"
      ]
    },
    {
      "cell_type": "markdown",
      "metadata": {
        "id": "3XdkXHnGFEZz"
      },
      "source": [
        "### Problem 1-a: Fix the code"
      ]
    },
    {
      "cell_type": "code",
      "metadata": {
        "id": "KLjbWcdSD3yd"
      },
      "source": [
        "# Directly edit this code block. Do not change more than 1 line!\n",
        "from transformers import AutoTokenizer, AutoModelForSequenceClassification\n",
        "\n",
        "model = AutoModelForSequenceClassification.from_pretrained(\"bert-base-uncased\")\n",
        "tokenizer = AutoTokenizer.from_pretrained(\"bert-base-cased\")\n",
        "\n",
        "inputs = tokenizer(\"Hello, world!\", return_tensors=\"pt\")\n",
        "model(**inputs)"
      ],
      "execution_count": null,
      "outputs": []
    },
    {
      "cell_type": "markdown",
      "metadata": {
        "id": "twcV_zuNFcDr"
      },
      "source": [
        "### Problem 1-b: Explain the issue\n",
        "\n",
        "What is the issue with the orignal code? Explain why the but has to be fixed. \n",
        "(Hint: Compare encoded token IDs)"
      ]
    },
    {
      "cell_type": "markdown",
      "metadata": {
        "id": "1m8kv2NKGZ3X"
      },
      "source": [
        "### Your Answer\n",
        "\n",
        "`TYPE YOUR ANSWER HERE`"
      ]
    },
    {
      "cell_type": "markdown",
      "metadata": {
        "id": "5XBm-ustH-GF"
      },
      "source": [
        "## Problem 2: Pre-trained model hunting at Hugging Face Hub\n",
        "\n",
        "1. Go to Hugging Face Model Hub (https://huggingface.co/models) \n",
        "2. Search for pre-trained models that can be used for **summarizing Japanese text**.\n",
        "3. Pick one model and answer the name (either `model name` or `URL` is fine.)"
      ]
    },
    {
      "cell_type": "markdown",
      "metadata": {
        "id": "2Hez_aKTJHS9"
      },
      "source": [
        "#### Your Answer\n",
        "\n",
        "`TYPE YOUR ANSWER HERE`"
      ]
    },
    {
      "cell_type": "markdown",
      "metadata": {
        "id": "EdQgWREEBz2C"
      },
      "source": [
        "## Problem 3: One thing needs to be done before use\n",
        "\n",
        "Suppose you are trying out two pre-trained language models for text classification using the `pipeline` interface. \n",
        "\n",
        "- [Model 1](https://huggingface.co/distilbert-base-uncased-finetuned-sst-2-english)\n",
        "- [Model 2](https://huggingface.co/distilbert-base-uncased)\n",
        "\n",
        "```\n",
        ">>> from transformers import pipeline\n",
        ">>> pipe1 = pipeline(\"text-classification\", model=\"distilbert-base-uncased-finetuned-sst-2-english\", device=0) # cuda:0\n",
        ">>> pipe1(\"This restaurant is awesome\")\n",
        "[{'label': 'POSITIVE', 'score': 0.9998743534088135}]\n",
        "\n",
        ">>> pipe2 = pipeline(\"text-classification\", model=\"distilbert-base-uncased\", device=0) # cuda:0\n",
        ">>> pipe2(\"This restaurant is awesome\")\n",
        "[{'label': 'LABEL_0', 'score': 0.5170442461967468}]\n",
        "```\n",
        "\n",
        "Although both of the models seem to be the same type of pre-trained language model, the results look significantly different. While `distilbert-base-uncased-finetuned-sst-2-english` confidently classifies the sentence has `positive` sentiment, `distilbert-base-uncased`'s result does not look good.\n",
        "\n",
        "**Question:** What's the issue with the second model (`distilbert-base-uncased`)? Why does the model not return an expected result?\n",
        "\n",
        "Hint: Look at the warning message. :)\n",
        "\n"
      ]
    },
    {
      "cell_type": "code",
      "metadata": {
        "id": "z9XCPhKACFrD"
      },
      "source": [
        "from transformers import pipeline\n",
        "pipe1 = pipeline(\"text-classification\", model=\"distilbert-base-uncased-finetuned-sst-2-english\", device=0) # cuda:0\n",
        "pipe1(\"This restaurant is awesome\")"
      ],
      "execution_count": null,
      "outputs": []
    },
    {
      "cell_type": "code",
      "metadata": {
        "id": "yjOG65F6DE4M"
      },
      "source": [
        "pipe2 = pipeline(\"text-classification\", model=\"distilbert-base-uncased\", device=0) # cuda:0\n",
        "pipe2(\"This restaurant is awesome\")"
      ],
      "execution_count": null,
      "outputs": []
    },
    {
      "cell_type": "markdown",
      "metadata": {
        "id": "zUk_R4muMLHP"
      },
      "source": [
        "### Your Answer\n",
        "\n",
        "`TYPE YOUR ANSWER HERE`"
      ]
    },
    {
      "cell_type": "markdown",
      "metadata": {
        "id": "bwqTkEOVMwO-"
      },
      "source": [
        "## Problem 4: Finding a dataset & a model (this can be part of your term project!)\n",
        "\n",
        "- Go to Hugging Face Dataset Hub (https://huggingface.co/datasets)\n"
      ]
    },
    {
      "cell_type": "markdown",
      "metadata": {
        "id": "c-nMjm0jPYeQ"
      },
      "source": [
        "### Problem 4-1: Pick a dataset \n",
        "\n",
        "- Take a look at the list of available datasets and **pick one dataset you like**. (Hint: Tasks tags might be helpful.)\n",
        "- Read the description of the dataset and understand **the task category**. Note that some datasets consist of more than one problem. Avoid that type of datasets for this assignment. (It's fine to consider such a dataset for your term project.)\n",
        "- Name the dataset and write the task category."
      ]
    },
    {
      "cell_type": "markdown",
      "metadata": {
        "id": "yGuH0BFyPpFO"
      },
      "source": [
        "#### Your Answer\n",
        "\n",
        "- Dataset name (URL): `TYPE URL HERE`\n",
        "- Taek category: `TYPE YOUR ANSWER HERE`"
      ]
    },
    {
      "cell_type": "markdown",
      "metadata": {
        "id": "SbySIszJP0EK"
      },
      "source": [
        "### Problem 4-2: Pick a model\n",
        "\n",
        "Now, you have a problem to solve! It's time to find models that can be used for the problem! :)\n",
        "\n",
        "- Go to Hugging Face Model Hub (https://huggingface.co/models)\n",
        "- Search for models that can be used for the dataset you chose in the previous step (Hint: Tasks tags should be helpful)\n",
        "- **Pick one model you like** and name the model. Also, explain why you think the model can be used for the dataset. \n",
        "- Note that the model does not have to perform well, but it must be **compatible** with the dataset. (Hint: Click the \"Use in Transformers\" tab to see what class is used to load the model.)\n",
        "\n"
      ]
    },
    {
      "cell_type": "markdown",
      "metadata": {
        "id": "b8DxiMkcSB58"
      },
      "source": [
        "#### Your Answer\n",
        "\n",
        "- Model name (URL): `TYPE URL HERE`\n",
        "- Explain why you think the model can be used for the dataset: `TYPE YOUR ANSWER HERE`"
      ]
    },
    {
      "cell_type": "markdown",
      "metadata": {
        "id": "nwj6NNFbZ5iH"
      },
      "source": [
        "## Problem 5: Your thoughts on the term project?\n",
        "\n",
        "Describe what type of problem you'd like to tackle for the term project. Do you want to use image data, textual data, or both? What kinds of techniques do you want to use?\n",
        "\n",
        "If you're interested in using textual data and pre-trained Transformer models, do you think the dataset and the model you choose for Problems 4-1 and 4-2 can be part of your term project?\n",
        "\n",
        "Are you interested in other types of data (and/or techniques) such as images (non-Transformer models etc.)?\n",
        "\n",
        "Please share more information and your thoughts on the term project. "
      ]
    },
    {
      "cell_type": "markdown",
      "metadata": {
        "id": "uoXLR2V2bdqW"
      },
      "source": [
        "### Your Answer\n",
        "\n",
        "`TYPE YOUR ANSWER HERE`"
      ]
    },
    {
      "cell_type": "markdown",
      "metadata": {
        "id": "Mb5tghZOdKow"
      },
      "source": [
        "## [Optional] Survey: Any ideas for additional content?\n",
        "\n",
        "The detailed content plan for Weeks 12 and 13 are in progress, and there may be a chance to cover some content that you're interested but not covered by the original plan.\n",
        "\n",
        "Please feel free to share any topics/keywords/techniques that you're interested to learn. Note that due to the scope of the course (and the areas of my expertise), I may not be able to accommodate all requests but will do my best. \n",
        "\n",
        "Thanks!"
      ]
    },
    {
      "cell_type": "markdown",
      "metadata": {
        "id": "7douF5Fudz2S"
      },
      "source": [
        "### Your Answer\n",
        "\n",
        "`TYPE YOUR ANSWER HERE`"
      ]
    }
  ]
}